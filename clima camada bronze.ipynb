{
 "cells": [
  {
   "cell_type": "code",
   "execution_count": 0,
   "metadata": {
    "application/vnd.databricks.v1+cell": {
     "cellMetadata": {
      "byteLimit": 2048000,
      "rowLimit": 10000
     },
     "inputWidgets": {},
     "nuid": "de73c7d3-f464-4e26-8c07-b7d2fef43b95",
     "showTitle": false,
     "tableResultSettingsMap": {},
     "title": ""
    }
   },
   "outputs": [],
   "source": [
    "from pyspark.sql import SparkSession\n",
    "from pyspark.sql.functions import from_unixtime, date_format, col, concat, lit\n",
    "from pyspark.sql.types import StructType, StructField, StringType, FloatType, IntegerType, ArrayType, DoubleType\n",
    "import requests\n",
    "import logging\n",
    "from datetime import datetime"
   ]
  },
  {
   "cell_type": "code",
   "execution_count": 0,
   "metadata": {
    "application/vnd.databricks.v1+cell": {
     "cellMetadata": {
      "byteLimit": 2048000,
      "rowLimit": 10000
     },
     "inputWidgets": {},
     "nuid": "e5442486-6c2b-404a-8b61-cb10708929ee",
     "showTitle": false,
     "tableResultSettingsMap": {},
     "title": ""
    }
   },
   "outputs": [],
   "source": [
    "# Configuracao de logging\n",
    "logging.basicConfig(level=logging.INFO, format='%(asctime)s - %(levelname)s - %(message)s')\n",
    "logger = logging.getLogger(__name__)\n",
    "\n",
    "# Iniciando Spark\n",
    "spark = SparkSession.builder.appName(\"Clima-Api\").getOrCreate()\n",
    "\n",
    "#pegando a data para colocar no nome do arquivo\n",
    "data_atual = datetime.now().strftime(\"%Y%m%d_%H%M%S\")\n",
    "\n",
    "# Configuracao da API\n",
    "api_key = \"eac87a91b5796009567e68258a4f3f8c\"\n",
    "cidade = \"Sao Paulo,BR\"\n",
    "url = f\"https://api.openweathermap.org/data/2.5/weather?q={cidade}&appid={api_key}&units=metric&lang=pt_br\"\n",
    "\n",
    "# Caminhos para salvar\n",
    "caminho_bronze = \"/Volumes/projeto/default/bronze\"\n",
    "caminho_erro = \"/Volumes/projeto/default/erros/climaerro.parquet\"\n",
    "caminho_bronze_clima_data = f\"{caminho_bronze}/clima_{data_atual}.parquet\"\n",
    "# Definindo o schema\n",
    "clima_schema = StructType([\n",
    "    StructField(\"name\", StringType(), True),\n",
    "    StructField(\"weather\", ArrayType(\n",
    "        StructType([\n",
    "            StructField(\"description\", StringType(), True)\n",
    "        ])\n",
    "    ), True),\n",
    "    StructField(\"main\", StructType([\n",
    "        StructField(\"temp\", FloatType(), True),\n",
    "        StructField(\"feels_like\", DoubleType(), True),\n",
    "        StructField(\"temp_min\", FloatType(), True),\n",
    "        StructField(\"temp_max\", FloatType(), True),\n",
    "        StructField(\"humidity\", IntegerType(), True)\n",
    "    ]), True),\n",
    "    StructField(\"dt\", IntegerType(), True)\n",
    "])\n",
    "\n",
    "\n",
    "try:\n",
    "    # Requisitando os dados da API\n",
    "    response = requests.get(url, timeout=10)\n",
    "    response.raise_for_status()\n",
    "\n",
    "    dados_clima = response.json()\n",
    "\n",
    "    # Validação: verifica se veio o campo 'main'\n",
    "    main_info = dados_clima.get('main', {})\n",
    "    if not main_info:\n",
    "        raise ValueError(\"Nenhum dado de clima encontrado no campo 'main'.\")\n",
    "\n",
    "    # Cria DataFrame diretamente\n",
    "    df_clima = spark.createDataFrame([dados_clima], schema=clima_schema)\n",
    "\n",
    "    # Tenta salvar\n",
    "    try:\n",
    "        df_clima.write.mode(\"overwrite\").parquet(caminho_bronze_clima_data)\n",
    "        logger.info(\"Dados de clima salvos com sucesso em Parquet.\")\n",
    "        df_clima.printSchema()\n",
    "        df_clima.show()\n",
    "    except Exception as e:\n",
    "        raise ValueError(f\"Erro ao salvar os dados de clima em Parquet: {e}\")\n",
    "\n",
    "except requests.exceptions.RequestException as e:\n",
    "    logger.error(f\"Erro ao fazer requisição para a API: {e}\")\n",
    "    df_erro = spark.createDataFrame([], clima_schema).withColumn(\"erro_carregamento\", lit(str(e)))\n",
    "    df_erro.write.mode(\"overwrite\").parquet(caminho_erro)\n",
    "\n",
    "except ValueError as e:\n",
    "    logger.error(f\"Erro de valor: {e}\")\n",
    "    df_erro = spark.createDataFrame([], clima_schema).withColumn(\"erro_carregamento\", lit(str(e)))\n",
    "    df_erro.write.mode(\"overwrite\").parquet(caminho_erro)\n",
    "\n",
    "except Exception as e:\n",
    "    logger.error(f\"Erro desconhecido: {e}\")\n",
    "    df_erro = spark.createDataFrame([], clima_schema).withColumn(\"erro_carregamento\", lit(str(e)))\n",
    "    df_erro.write.mode(\"overwrite\").parquet(caminho_erro)\n"
   ]
  }
 ],
 "metadata": {
  "application/vnd.databricks.v1+notebook": {
   "computePreferences": null,
   "dashboards": [],
   "environmentMetadata": {
    "base_environment": "",
    "environment_version": "2"
   },
   "inputWidgetPreferences": null,
   "language": "python",
   "notebookMetadata": {
    "pythonIndentUnit": 4
   },
   "notebookName": "clima camada bronze",
   "widgets": {}
  },
  "language_info": {
   "name": "python"
  }
 },
 "nbformat": 4,
 "nbformat_minor": 0
}
