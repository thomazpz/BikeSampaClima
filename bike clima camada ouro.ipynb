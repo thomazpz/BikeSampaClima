{
 "cells": [
  {
   "cell_type": "code",
   "execution_count": 0,
   "metadata": {
    "application/vnd.databricks.v1+cell": {
     "cellMetadata": {
      "byteLimit": 2048000,
      "rowLimit": 10000
     },
     "inputWidgets": {},
     "nuid": "1c891c6c-c540-4f1b-9d54-bfbc18dac641",
     "showTitle": false,
     "tableResultSettingsMap": {},
     "title": ""
    }
   },
   "outputs": [],
   "source": [
    "from pyspark.sql import SparkSession\n",
    "from pyspark.sql.functions import col, lit, when"
   ]
  },
  {
   "cell_type": "code",
   "execution_count": 0,
   "metadata": {
    "application/vnd.databricks.v1+cell": {
     "cellMetadata": {
      "byteLimit": 2048000,
      "rowLimit": 10000
     },
     "inputWidgets": {},
     "nuid": "34059e8b-99ec-43b4-8709-420f9557a8fc",
     "showTitle": false,
     "tableResultSettingsMap": {},
     "title": ""
    }
   },
   "outputs": [],
   "source": [
    "# Inicia o Spark\n",
    "spark = SparkSession.builder.appName(\"BikeClima-Ouro\").getOrCreate()\n",
    "\n",
    "# Caminho base da camada bronze\n",
    "caminho_bike_bronze_dir = \"/Volumes/projeto/default/bronze/\"\n",
    "\n",
    "# Lista os arquivos no diretório bronze\n",
    "arquivos_bronze = dbutils.fs.ls(caminho_bike_bronze_dir)\n",
    "\n",
    "# Filtra arquivos de bike que começam com \"bike_\" e contêm \".parquet\"\n",
    "bike_arquivos = [f for f in arquivos_bronze if f.name.startswith(\"bike_\") and \"parquet\" in f.name]\n",
    "\n",
    "# Ordena do mais recente para o mais antigo\n",
    "bike_arquivos_ordenados = sorted(bike_arquivos, key=lambda f: f.modificationTime, reverse=True)\n",
    "\n",
    "if bike_arquivos_ordenados:\n",
    "    caminho_bike_bronze = bike_arquivos_ordenados[0].path\n",
    "    print(f\"Arquivo de bike mais recente: {caminho_bike_bronze}\")\n",
    "\n",
    "    # Caminhos fixos\n",
    "    caminho_clima_prata = \"/Volumes/projeto/default/prata/climasp.parquet\"\n",
    "    caminho_ouro = \"/Volumes/projeto/default/ouro/bike_clima.parquet\"\n",
    "\n",
    "    # Lendo os dados\n",
    "    df_bikes = spark.read.parquet(caminho_bike_bronze)\n",
    "    df_clima = spark.read.parquet(caminho_clima_prata)\n",
    "\n",
    "    # Pegando a linha única do clima\n",
    "    clima = df_clima.collect()[0]\n",
    "\n",
    "    # Juntando com os dados de clima\n",
    "    df_bike_clima = df_bikes \\\n",
    "        .withColumn(\"temperature\", lit(clima[\"temperature\"])) \\\n",
    "        .withColumn(\"real_temperature\", lit(clima[\"real_temperature\"])) \\\n",
    "        .withColumn(\"temp_min\", lit(clima[\"temp_min\"])) \\\n",
    "        .withColumn(\"temp_max\", lit(clima[\"temp_max\"])) \\\n",
    "        .withColumn(\"humidity\", lit(clima[\"humidity\"])) \\\n",
    "        .withColumn(\"description\", lit(clima[\"weather_description\"])) \\\n",
    "        .withColumn(\"warning\",\n",
    "            when((lit(clima[\"temperature\"]) > 35) & (lit(clima[\"humidity\"]) < 30), \"Não seguro\")\n",
    "            .when((lit(clima[\"temperature\"]) > 30) & (lit(clima[\"humidity\"]) < 40), \"Segurança baixa\")\n",
    "            .when((lit(clima[\"temperature\"]) > 25) & (lit(clima[\"humidity\"]) < 60), \"Segurança média\")\n",
    "            .otherwise(\"Segurança alta\")\n",
    "        )\n",
    "\n",
    "    # Salvando na camada ouro\n",
    "    df_bike_clima.write.mode(\"overwrite\").parquet(caminho_ouro)\n",
    "    df_bike_clima.write.mode(\"overwrite\").saveAsTable(\"bike_clima_tabela\")\n",
    "else:\n",
    "    print(\"Nenhum arquivo 'bike_*.parquet' encontrado na camada bronze.\")\n"
   ]
  }
 ],
 "metadata": {
  "application/vnd.databricks.v1+notebook": {
   "computePreferences": null,
   "dashboards": [],
   "environmentMetadata": {
    "base_environment": "",
    "environment_version": "2"
   },
   "inputWidgetPreferences": null,
   "language": "python",
   "notebookMetadata": {
    "pythonIndentUnit": 4
   },
   "notebookName": "bike clima camada ouro",
   "widgets": {}
  },
  "language_info": {
   "name": "python"
  }
 },
 "nbformat": 4,
 "nbformat_minor": 0
}
