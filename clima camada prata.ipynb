{
 "cells": [
  {
   "cell_type": "code",
   "execution_count": 0,
   "metadata": {
    "application/vnd.databricks.v1+cell": {
     "cellMetadata": {
      "byteLimit": 2048000,
      "rowLimit": 10000
     },
     "inputWidgets": {},
     "nuid": "83086950-43e7-4635-8d74-a66d8230175f",
     "showTitle": false,
     "tableResultSettingsMap": {},
     "title": ""
    }
   },
   "outputs": [],
   "source": [
    "from pyspark.sql.functions import from_unixtime, date_format, col, concat, lit\n",
    "from pyspark.sql.types import StructType, StructField, StringType, FloatType, IntegerType, ArrayType"
   ]
  },
  {
   "cell_type": "code",
   "execution_count": 0,
   "metadata": {
    "application/vnd.databricks.v1+cell": {
     "cellMetadata": {
      "byteLimit": 2048000,
      "rowLimit": 10000
     },
     "inputWidgets": {},
     "nuid": "fc6491c0-0e7b-41b2-9cad-07e37defcba6",
     "showTitle": false,
     "tableResultSettingsMap": {},
     "title": ""
    }
   },
   "outputs": [],
   "source": [
    "# Lista todos os arquivos ou diretórios no diretório bronze\n",
    "arquivos = dbutils.fs.ls(\"/Volumes/projeto/default/bronze/\")\n",
    "\n",
    "# Filtra diretórios que começam com \"clima_\" e terminam com \".parquet\" (mesmo com a barra no final)\n",
    "clima_arquivos = [f for f in arquivos if f.name.startswith(\"clima_\") and \"parquet\" in f.name]\n",
    "\n",
    "# Ordena por data de modificação\n",
    "clima_arquivos_ordenados = sorted(clima_arquivos, key=lambda f: f.modificationTime, reverse=True)\n",
    "\n",
    "# Pega o mais recente\n",
    "if clima_arquivos_ordenados:\n",
    "    caminho_bronze = clima_arquivos_ordenados[0].path\n",
    "    print(f\"Arquivo mais recente encontrado: {caminho_bronze}\")\n",
    "\n",
    "    # Continuar com a leitura e transformação\n",
    "    df_bronze = spark.read.parquet(caminho_bronze)\n",
    "\n",
    "    df_prata = df_bronze.select(\n",
    "        col(\"main.temp\").alias(\"temperature\"),\n",
    "        col(\"main.feels_like\").alias(\"real_temperature\"),\n",
    "        col(\"main.temp_min\").alias(\"temp_min\"),\n",
    "        col(\"main.temp_max\").alias(\"temp_max\"),\n",
    "        col(\"main.humidity\").alias(\"humidity\"),\n",
    "        concat(date_format(from_unixtime(col(\"dt\")), \"yyyy-MM-dd'T'HH:mm:ss.SSSSSS\"), lit(\"Z\")).alias(\"timestamp\"),\n",
    "        col(\"weather\").getItem(0).getField(\"description\").alias(\"weather_description\")\n",
    "    )\n",
    "\n",
    "    caminho_prata = \"/Volumes/projeto/default/prata/climasp.parquet\"\n",
    "\n",
    "    df_prata.write.mode(\"overwrite\").parquet(caminho_prata)\n",
    "    df_prata.write.mode(\"overwrite\").saveAsTable(\"clima_tabela\")\n",
    "\n",
    "    df_prata.printSchema()\n",
    "    df_prata.show()\n",
    "else:\n",
    "    print(\"Nenhum arquivo válido encontrado na camada bronze.\")\n"
   ]
  }
 ],
 "metadata": {
  "application/vnd.databricks.v1+notebook": {
   "computePreferences": null,
   "dashboards": [],
   "environmentMetadata": {
    "base_environment": "",
    "environment_version": "2"
   },
   "inputWidgetPreferences": null,
   "language": "python",
   "notebookMetadata": {
    "pythonIndentUnit": 4
   },
   "notebookName": "clima camada prata",
   "widgets": {}
  },
  "language_info": {
   "name": "python"
  }
 },
 "nbformat": 4,
 "nbformat_minor": 0
}
